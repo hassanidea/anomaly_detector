{
 "cells": [
  {
   "cell_type": "code",
   "execution_count": 4,
   "metadata": {},
   "outputs": [],
   "source": [
    "from dotenv import load_dotenv\n",
    "load_dotenv()\n",
    "import os\n",
    "import http.client\n",
    "import json\n",
    "import pandas as pd\n"
   ]
  },
  {
   "cell_type": "code",
   "execution_count": 16,
   "metadata": {},
   "outputs": [
    {
     "name": "stdout",
     "output_type": "stream",
     "text": [
      "{'barData': {'priceBars': [{'open': '3.1618', 'high': '3.3227', 'low': '2.9601', 'close': '3.0287', 'volume': None, 'tradeTime': '19990101000000', 'tradeTimeinMills': 915166800000}, {'open': '3.0268', 'high': '3.2999', 'low': '2.7888', 'close': '3.2714', 'volume': None, 'tradeTime': '19990401000000', 'tradeTimeinMills': 922942800000}, {'open': '3.2520', 'high': '3.8749', 'low': '3.2443', 'close': '3.8749', 'volume': None, 'tradeTime': '19990701000000', 'tradeTimeinMills': 930801600000}, {'open': '3.8857', 'high': '4.3826', 'low': '3.8857', 'close': '4.2976', 'volume': None, 'tradeTime': '19991001000000', 'tradeTimeinMills': 938750400000}, {'open': '4.4595', 'high': '4.8484', 'low': '4.3126', 'close': '4.6391', 'volume': None, 'tradeTime': '20000101000000', 'tradeTimeinMills': 946702800000}, {'open': '4.6304', 'high': '5.3255', 'low': '4.5570', 'close': '5.1591', 'volume': None, 'tradeTime': '20000401000000', 'tradeTimeinMills': 954565200000}, {'open': '5.1907', 'high': '5.4448', 'low': '5.1622', 'close': '5.2560', 'volume': None, 'tradeTime': '20000701000000', 'tradeTimeinMills': 962424000000}, {'open': '5.2058', 'high': '5.3189', 'low': '4.5573', 'close': '4.5573', 'volume': None, 'tradeTime': '20001001000000', 'tradeTimeinMills': 970372800000}, {'open': '4.4868', 'high': '4.6798', 'low': '4.2428', 'close': '4.2943', 'volume': None, 'tradeTime': '20010101000000', 'tradeTimeinMills': 978325200000}, {'open': '4.3059', 'high': '4.7845', 'low': '4.2734', 'close': '4.4064', 'volume': None, 'tradeTime': '20010401000000', 'tradeTimeinMills': 986101200000}, {'open': '4.3671', 'high': '4.4560', 'low': '3.6474', 'close': '3.6607', 'volume': None, 'tradeTime': '20010701000000', 'tradeTimeinMills': 993960000000}, {'open': '3.6432', 'high': '3.7730', 'low': '3.0927', 'close': '3.7000', 'volume': None, 'tradeTime': '20011001000000', 'tradeTimeinMills': 1001908800000}, {'open': '3.7090', 'high': '4.4610', 'low': '3.6580', 'close': '4.4100', 'volume': None, 'tradeTime': '20020101000000', 'tradeTimeinMills': 1009861200000}, {'open': '4.5270', 'high': '4.5270', 'low': '3.9710', 'close': '3.9770', 'volume': None, 'tradeTime': '20020401000000', 'tradeTimeinMills': 1017637200000}, {'open': '3.9630', 'high': '4.0210', 'low': '3.0090', 'close': '3.2160', 'volume': None, 'tradeTime': '20020701000000', 'tradeTimeinMills': 1025496000000}, {'open': '3.0420', 'high': '3.2650', 'low': '2.7340', 'close': '2.7440', 'volume': None, 'tradeTime': '20021001000000', 'tradeTimeinMills': 1033444800000}, {'open': '2.7440', 'high': '2.8910', 'low': '2.2390', 'close': '2.6040', 'volume': None, 'tradeTime': '20030101000000', 'tradeTimeinMills': 1041397200000}, {'open': '2.5700', 'high': '2.8010', 'low': '1.9290', 'close': '2.2170', 'volume': None, 'tradeTime': '20030401000000', 'tradeTimeinMills': 1049173200000}, {'open': '2.1740', 'high': '2.8230', 'low': '2.1740', 'close': '2.3890', 'volume': None, 'tradeTime': '20030701000000', 'tradeTimeinMills': 1057032000000}, {'open': '2.2940', 'high': '2.8060', 'low': '2.2940', 'close': '2.4710', 'volume': None, 'tradeTime': '20031001000000', 'tradeTimeinMills': 1064980800000}, {'open': '2.4660', 'high': '2.6930', 'low': '1.8800', 'close': '2.1590', 'volume': None, 'tradeTime': '20040101000000', 'tradeTimeinMills': 1072933200000}, {'open': '1.9950', 'high': '3.0300', 'low': '1.9950', 'close': '2.9100', 'volume': None, 'tradeTime': '20040401000000', 'tradeTimeinMills': 1080795600000}, {'open': '2.8230', 'high': '2.8730', 'low': '2.5110', 'close': '2.6260', 'volume': None, 'tradeTime': '20040701000000', 'tradeTimeinMills': 1088654400000}, {'open': '2.5870', 'high': '2.6490', 'low': '2.2710', 'close': '2.4940', 'volume': None, 'tradeTime': '20041001000000', 'tradeTimeinMills': 1096603200000}, {'open': '2.4400', 'high': '2.5820', 'low': '2.2820', 'close': '2.4980', 'volume': None, 'tradeTime': '20050101000000', 'tradeTimeinMills': 1104555600000}, {'open': '2.4510', 'high': '2.4980', 'low': '1.9620', 'close': '2.0330', 'volume': None, 'tradeTime': '20050401000000', 'tradeTimeinMills': 1112331600000}, {'open': '2.0170', 'high': '2.3150', 'low': '1.9620', 'close': '2.3090', 'volume': None, 'tradeTime': '20050701000000', 'tradeTimeinMills': 1120190400000}, {'open': '2.3100', 'high': '2.9630', 'low': '2.2000', 'close': '2.9230', 'volume': None, 'tradeTime': '20051001000000', 'tradeTimeinMills': 1128139200000}, {'open': '2.8930', 'high': '3.4240', 'low': '2.7790', 'close': '3.4040', 'volume': None, 'tradeTime': '20060101000000', 'tradeTimeinMills': 1136091600000}, {'open': '3.4150', 'high': '3.6860', 'low': '3.3030', 'close': '3.6200', 'volume': None, 'tradeTime': '20060401000000', 'tradeTimeinMills': 1143867600000}, {'open': '3.6180', 'high': '3.7890', 'low': '3.5130', 'close': '3.6200', 'volume': None, 'tradeTime': '20060701000000', 'tradeTimeinMills': 1151726400000}, {'open': '3.6390', 'high': '3.9590', 'low': '3.5730', 'close': '3.9460', 'volume': None, 'tradeTime': '20061001000000', 'tradeTimeinMills': 1159675200000}, {'open': '3.9550', 'high': '4.0990', 'low': '3.8260', 'close': '4.0560', 'volume': None, 'tradeTime': '20070101000000', 'tradeTimeinMills': 1167627600000}, {'open': '4.0710', 'high': '4.5860', 'low': '4.0340', 'close': '4.5160', 'volume': None, 'tradeTime': '20070401000000', 'tradeTimeinMills': 1175400000000}, {'open': '4.4980', 'high': '4.6060', 'low': '3.9350', 'close': '4.2210', 'volume': None, 'tradeTime': '20070701000000', 'tradeTimeinMills': 1183262400000}, {'open': '4.2030', 'high': '4.3810', 'low': '3.8820', 'close': '4.1430', 'volume': None, 'tradeTime': '20071001000000', 'tradeTimeinMills': 1191211200000}, {'open': '4.1140', 'high': '4.2270', 'low': '3.3180', 'close': '3.8370', 'volume': None, 'tradeTime': '20080101000000', 'tradeTimeinMills': 1199163600000}, {'open': '3.8360', 'high': '5.0700', 'low': '3.7200', 'close': '4.9560', 'volume': None, 'tradeTime': '20080401000000', 'tradeTimeinMills': 1207022400000}, {'open': '4.9510', 'high': '5.1120', 'low': '3.9160', 'close': '4.0440', 'volume': None, 'tradeTime': '20080701000000', 'tradeTimeinMills': 1214884800000}, {'open': '4.0480', 'high': '4.1320', 'low': '2.9400', 'close': '3.0800', 'volume': None, 'tradeTime': '20081001000000', 'tradeTimeinMills': 1222833600000}, {'open': '3.0990', 'high': '3.1090', 'low': '1.8770', 'close': '1.8830', 'volume': None, 'tradeTime': '20090101000000', 'tradeTimeinMills': 1230786000000}, {'open': '1.8840', 'high': '2.1760', 'low': '1.5000', 'close': '1.5420', 'volume': None, 'tradeTime': '20090401000000', 'tradeTimeinMills': 1238558400000}, {'open': '1.5690', 'high': '1.7240', 'low': '1.1120', 'close': '1.5140', 'volume': None, 'tradeTime': '20090701000000', 'tradeTimeinMills': 1246420800000}, {'open': '1.5440', 'high': '1.8130', 'low': '1.3940', 'close': '1.5660', 'volume': None, 'tradeTime': '20091001000000', 'tradeTimeinMills': 1254369600000}, {'open': '1.6170', 'high': '2.1240', 'low': '1.2640', 'close': '1.5350', 'volume': None, 'tradeTime': '20100101000000', 'tradeTimeinMills': 1262322000000}, {'open': '1.5470', 'high': '2.8500', 'low': '1.4620', 'close': '2.1370', 'volume': None, 'tradeTime': '20100401000000', 'tradeTimeinMills': 1270094400000}, {'open': '2.3330', 'high': '2.3600', 'low': '1.5540', 'close': '1.9540', 'volume': None, 'tradeTime': '20100701000000', 'tradeTimeinMills': 1277956800000}, {'open': '2.0820', 'high': '3.3180', 'low': '1.6030', 'close': '2.8950', 'volume': None, 'tradeTime': '20101001000000', 'tradeTimeinMills': 1285905600000}, {'open': '2.9290', 'high': '3.2320', 'low': '2.3080', 'close': '2.9180', 'volume': None, 'tradeTime': '20110101000000', 'tradeTimeinMills': 1293858000000}, {'open': '2.9640', 'high': '3.4570', 'low': '2.7500', 'close': '3.0990', 'volume': None, 'tradeTime': '20110401000000', 'tradeTimeinMills': 1301630400000}, {'open': '3.0650', 'high': '5.3590', 'low': '3.0100', 'close': '4.3720', 'volume': None, 'tradeTime': '20110701000000', 'tradeTimeinMills': 1309492800000}, {'open': '4.4640', 'high': '8.3210', 'low': '4.1840', 'close': '4.9820', 'volume': None, 'tradeTime': '20111001000000', 'tradeTimeinMills': 1317441600000}, {'open': '5.1880', 'high': '5.2810', 'low': '1.6700', 'close': '2.9290', 'volume': None, 'tradeTime': '20120101000000', 'tradeTimeinMills': 1325394000000}, {'open': '2.8260', 'high': '5.0970', 'low': '2.7240', 'close': '3.7420', 'volume': None, 'tradeTime': '20120401000000', 'tradeTimeinMills': 1333252800000}, {'open': '3.7620', 'high': '5.2590', 'low': '2.2810', 'close': '2.5920', 'volume': None, 'tradeTime': '20120701000000', 'tradeTimeinMills': 1341115200000}, {'open': '2.6360', 'high': '2.6420', 'low': '1.7500', 'close': '2.1090', 'volume': None, 'tradeTime': '20121001000000', 'tradeTimeinMills': 1349064000000}, {'open': '1.9400', 'high': '2.5030', 'low': '1.2550', 'close': '2.1230', 'volume': None, 'tradeTime': '20130101000000', 'tradeTimeinMills': 1357016400000}, {'open': '2.1100', 'high': '2.5650', 'low': '1.1650', 'close': '2.1790', 'volume': None, 'tradeTime': '20130401000000', 'tradeTimeinMills': 1364788800000}, {'open': '2.1680', 'high': '2.1960', 'low': '1.6400', 'close': '1.9740', 'volume': None, 'tradeTime': '20130701000000', 'tradeTimeinMills': 1372651200000}, {'open': '1.9840', 'high': '1.9920', 'low': '1.0810', 'close': '1.2270', 'volume': None, 'tradeTime': '20131001000000', 'tradeTimeinMills': 1380600000000}, {'open': '0.8950', 'high': '0.9780', 'low': '0.7820', 'close': '0.8390', 'volume': None, 'tradeTime': '20140101000000', 'tradeTimeinMills': 1388552400000}, {'open': '0.8350', 'high': '1.0100', 'low': '0.4920', 'close': '0.5990', 'volume': None, 'tradeTime': '20140401000000', 'tradeTimeinMills': 1396324800000}, {'open': '0.6040', 'high': '0.6860', 'low': '0.2370', 'close': '0.4170', 'volume': None, 'tradeTime': '20140701000000', 'tradeTimeinMills': 1404187200000}, {'open': '0.4360', 'high': '0.5410', 'low': '0.1580', 'close': '0.2100', 'volume': None, 'tradeTime': '20150101000000', 'tradeTimeinMills': 1420088400000}, {'open': '0.2290', 'high': '0.5630', 'low': '0.0850', 'close': '0.4270', 'volume': None, 'tradeTime': '20150401000000', 'tradeTimeinMills': 1427860800000}, {'open': '0.4180', 'high': '0.4690', 'low': '0.0520', 'close': '0.1320', 'volume': None, 'tradeTime': '20150701000000', 'tradeTimeinMills': 1435723200000}, {'open': '0.1360', 'high': '0.1840', 'low': '-0.0380', 'close': '0.0320', 'volume': None, 'tradeTime': '20151001000000', 'tradeTimeinMills': 1443672000000}, {'open': '0.0339', 'high': '0.1955', 'low': '-0.2401', 'close': '-0.0065', 'volume': None, 'tradeTime': '20160101000000', 'tradeTimeinMills': 1451624400000}, {'open': '-0.0261', 'high': '0.2568', 'low': '-0.1241', 'close': '-0.1241', 'volume': None, 'tradeTime': '20160401000000', 'tradeTimeinMills': 1459483200000}, {'open': '-0.1256', 'high': '0.0296', 'low': '-0.1642', 'close': '-0.0826', 'volume': None, 'tradeTime': '20160701000000', 'tradeTimeinMills': 1467345600000}, {'open': '-0.0866', 'high': '0.3012', 'low': '-0.1760', 'close': '-0.1616', 'volume': None, 'tradeTime': '20161001000000', 'tradeTimeinMills': 1475294400000}, {'open': '-0.1616', 'high': '0.1873', 'low': '-0.1877', 'close': '0.0299', 'volume': None, 'tradeTime': '20170101000000', 'tradeTimeinMills': 1483246800000}, {'open': '0.0340', 'high': '0.1760', 'low': '-0.1944', 'close': '-0.0731', 'volume': None, 'tradeTime': '20170401000000', 'tradeTimeinMills': 1491019200000}, {'open': '-0.0747', 'high': '0.7311', 'low': '-0.2358', 'close': '-0.1564', 'volume': None, 'tradeTime': '20170701000000', 'tradeTimeinMills': 1498881600000}, {'open': '-0.1416', 'high': '-0.0394', 'low': '-0.3874', 'close': '-0.1802', 'volume': None, 'tradeTime': '20171001000000', 'tradeTimeinMills': 1506830400000}, {'open': '-0.1802', 'high': '-0.0470', 'low': '-0.3035', 'close': '-0.2730', 'volume': None, 'tradeTime': '20180101000000', 'tradeTimeinMills': 1514782800000}, {'open': '-0.2730', 'high': '2.9090', 'low': '-0.2998', 'close': '0.8700', 'volume': None, 'tradeTime': '20180401000000', 'tradeTimeinMills': 1522555200000}, {'open': '0.8700', 'high': '1.5520', 'low': '0.5230', 'close': '0.8620', 'volume': None, 'tradeTime': '20180701000000', 'tradeTimeinMills': 1530417600000}, {'open': '0.8620', 'high': '2.0130', 'low': '0.3910', 'close': '0.5180', 'volume': None, 'tradeTime': '20181001000000', 'tradeTimeinMills': 1538366400000}, {'open': '0.5180', 'high': '0.7480', 'low': '0.0900', 'close': '0.2720', 'volume': None, 'tradeTime': '20190101000000', 'tradeTimeinMills': 1546318800000}, {'open': '0.2720', 'high': '0.8210', 'low': '0.1290', 'close': '0.2800', 'volume': None, 'tradeTime': '20190401000000', 'tradeTimeinMills': 1554091200000}, {'open': '0.2800', 'high': '0.4440', 'low': '-0.4240', 'close': '-0.1890', 'volume': None, 'tradeTime': '20190701000000', 'tradeTimeinMills': 1561953600000}, {'open': '-0.1900', 'high': '0.2120', 'low': '-0.2210', 'close': '-0.0200', 'volume': None, 'tradeTime': '20191001000000', 'tradeTimeinMills': 1569902400000}, {'open': '-0.0200', 'high': '2.1150', 'low': '-0.2370', 'close': '0.3900', 'volume': None, 'tradeTime': '20200101000000', 'tradeTimeinMills': 1577854800000}, {'open': '0.3910', 'high': '1.2570', 'low': '0.0720', 'close': '0.0880', 'volume': None, 'tradeTime': '20200401000000', 'tradeTimeinMills': 1585713600000}, {'open': '0.0900', 'high': '0.1830', 'low': '-0.2400', 'close': '-0.2130', 'volume': None, 'tradeTime': '20200701000000', 'tradeTimeinMills': 1593576000000}, {'open': '-0.2110', 'high': '-0.1370', 'low': '-0.5000', 'close': '-0.4720', 'volume': None, 'tradeTime': '20201001000000', 'tradeTimeinMills': 1601524800000}, {'open': '-0.4660', 'high': '-0.2120', 'low': '-0.4740', 'close': '-0.3812', 'volume': None, 'tradeTime': '20210101000000', 'tradeTimeinMills': 1609477200000}, {'open': '-0.3801', 'high': '-0.1240', 'low': '-0.4080', 'close': '-0.3550', 'volume': None, 'tradeTime': '20210401000000', 'tradeTimeinMills': 1617249600000}, {'open': '-0.3550', 'high': '-0.2950', 'low': '-0.5550', 'close': '-0.4500', 'volume': None, 'tradeTime': '20210701000000', 'tradeTimeinMills': 1625112000000}, {'open': '-0.4490', 'high': '0.0000', 'low': '-1.2960', 'close': '-0.0740', 'volume': None, 'tradeTime': '20211001000000', 'tradeTimeinMills': 1633060800000}, {'open': '-0.0740', 'high': '1.4390', 'low': '-0.2910', 'close': '0.3090', 'volume': None, 'tradeTime': '20220101000000', 'tradeTimeinMills': 1641013200000}, {'open': '0.3070', 'high': '2.8090', 'low': '0.2990', 'close': '1.2250', 'volume': None, 'tradeTime': '20220401000000', 'tradeTimeinMills': 1648785600000}, {'open': '1.2290', 'high': '3.4440', 'low': '0.8970', 'close': '2.8640', 'volume': None, 'tradeTime': '20220701000000', 'tradeTimeinMills': 1656648000000}, {'open': '2.8660', 'high': '3.4450', 'low': '2.4170', 'close': '3.3400', 'volume': None, 'tradeTime': '20221001000000', 'tradeTimeinMills': 1664596800000}, {'open': '3.3400', 'high': '3.9380', 'low': '2.7950', 'close': '3.1828', 'volume': None, 'tradeTime': '20230101000000', 'tradeTimeinMills': 1672549200000}, {'open': '3.1802', 'high': '3.9550', 'low': '3.0276', 'close': '3.9240', 'volume': None, 'tradeTime': '20230401000000', 'tradeTimeinMills': 1680321600000}, {'open': '3.9250', 'high': '4.1930', 'low': '3.5880', 'close': '4.0260', 'volume': None, 'tradeTime': '20230701000000', 'tradeTimeinMills': 1688184000000}, {'open': '4.0260', 'high': '4.2040', 'low': '2.8980', 'close': '2.9730', 'volume': None, 'tradeTime': '20231001000000', 'tradeTimeinMills': 1696132800000}, {'open': '2.9730', 'high': '3.5430', 'low': '2.9680', 'close': '3.4510', 'volume': None, 'tradeTime': '20240101000000', 'tradeTimeinMills': 1704085200000}, {'open': '3.4510', 'high': '3.7300', 'low': '3.3880', 'close': '3.5770', 'volume': None, 'tradeTime': '20240401000000', 'tradeTimeinMills': 1711944000000}, {'open': '3.5770', 'high': '3.6810', 'low': '2.3300', 'close': '2.4870', 'volume': None, 'tradeTime': '20240701000000', 'tradeTimeinMills': 1719806400000}, {'open': '2.4870', 'high': '3.0730', 'low': '2.2750', 'close': '2.4550', 'volume': None, 'tradeTime': '20241001000000', 'tradeTimeinMills': 1727755200000}, {'open': '2.4550', 'high': '2.7650', 'low': '2.3840', 'close': '2.6110', 'volume': None, 'tradeTime': '20250101000000', 'tradeTimeinMills': 1735707600000}], 'barcount': 104, 'symbol': '6327968', 'companyName': 'Italy 2 Year Bond', 'timeZone': 'EST', 'exchange': None}, 'requestDetails': {'symbol': 'IT2Y', 'startTime': '19800101000000', 'endTime': '20250116100209', 'adjusted': None, 'ouputFields': None, 'source': None, 'session': 'ALL'}, 'responseDetails': {'requestTrackingNumber': None, 'processTime': '47ms'}, 'responseErrorMessages': [{'responseCode': '200', 'responseMessage': 'Successfully processed'}]}\n"
     ]
    }
   ],
   "source": [
    "conn = http.client.HTTPSConnection(\"cnbc.p.rapidapi.com\")\n",
    "\n",
    "headers = {\n",
    "    'x-rapidapi-key': \"5ed523c6cdmsh5a89356e426a93bp18e1afjsn5857db27f5c5\",\n",
    "    'x-rapidapi-host': \"cnbc.p.rapidapi.com\"\n",
    "}\n",
    "\n",
    "conn.request(\"GET\", \"/symbols/v2/get-chart?symbol=IT2Y&interval=ALL\", headers=headers)\n",
    "\n",
    "res = conn.getresponse()\n",
    "data = res.read()\n",
    "decoded_data = data.decode(\"utf-8\")\n",
    "json_data = json.loads(decoded_data)\n",
    "\n",
    "# Print the JSON data\n",
    "print(json_data)"
   ]
  },
  {
   "cell_type": "code",
   "execution_count": 17,
   "metadata": {},
   "outputs": [
    {
     "name": "stdout",
     "output_type": "stream",
     "text": [
      "[{'open': '3.1618', 'high': '3.3227', 'low': '2.9601', 'close': '3.0287', 'volume': None, 'tradeTime': '19990101000000', 'tradeTimeinMills': 915166800000}, {'open': '3.0268', 'high': '3.2999', 'low': '2.7888', 'close': '3.2714', 'volume': None, 'tradeTime': '19990401000000', 'tradeTimeinMills': 922942800000}, {'open': '3.2520', 'high': '3.8749', 'low': '3.2443', 'close': '3.8749', 'volume': None, 'tradeTime': '19990701000000', 'tradeTimeinMills': 930801600000}, {'open': '3.8857', 'high': '4.3826', 'low': '3.8857', 'close': '4.2976', 'volume': None, 'tradeTime': '19991001000000', 'tradeTimeinMills': 938750400000}, {'open': '4.4595', 'high': '4.8484', 'low': '4.3126', 'close': '4.6391', 'volume': None, 'tradeTime': '20000101000000', 'tradeTimeinMills': 946702800000}, {'open': '4.6304', 'high': '5.3255', 'low': '4.5570', 'close': '5.1591', 'volume': None, 'tradeTime': '20000401000000', 'tradeTimeinMills': 954565200000}, {'open': '5.1907', 'high': '5.4448', 'low': '5.1622', 'close': '5.2560', 'volume': None, 'tradeTime': '20000701000000', 'tradeTimeinMills': 962424000000}, {'open': '5.2058', 'high': '5.3189', 'low': '4.5573', 'close': '4.5573', 'volume': None, 'tradeTime': '20001001000000', 'tradeTimeinMills': 970372800000}, {'open': '4.4868', 'high': '4.6798', 'low': '4.2428', 'close': '4.2943', 'volume': None, 'tradeTime': '20010101000000', 'tradeTimeinMills': 978325200000}, {'open': '4.3059', 'high': '4.7845', 'low': '4.2734', 'close': '4.4064', 'volume': None, 'tradeTime': '20010401000000', 'tradeTimeinMills': 986101200000}, {'open': '4.3671', 'high': '4.4560', 'low': '3.6474', 'close': '3.6607', 'volume': None, 'tradeTime': '20010701000000', 'tradeTimeinMills': 993960000000}, {'open': '3.6432', 'high': '3.7730', 'low': '3.0927', 'close': '3.7000', 'volume': None, 'tradeTime': '20011001000000', 'tradeTimeinMills': 1001908800000}, {'open': '3.7090', 'high': '4.4610', 'low': '3.6580', 'close': '4.4100', 'volume': None, 'tradeTime': '20020101000000', 'tradeTimeinMills': 1009861200000}, {'open': '4.5270', 'high': '4.5270', 'low': '3.9710', 'close': '3.9770', 'volume': None, 'tradeTime': '20020401000000', 'tradeTimeinMills': 1017637200000}, {'open': '3.9630', 'high': '4.0210', 'low': '3.0090', 'close': '3.2160', 'volume': None, 'tradeTime': '20020701000000', 'tradeTimeinMills': 1025496000000}, {'open': '3.0420', 'high': '3.2650', 'low': '2.7340', 'close': '2.7440', 'volume': None, 'tradeTime': '20021001000000', 'tradeTimeinMills': 1033444800000}, {'open': '2.7440', 'high': '2.8910', 'low': '2.2390', 'close': '2.6040', 'volume': None, 'tradeTime': '20030101000000', 'tradeTimeinMills': 1041397200000}, {'open': '2.5700', 'high': '2.8010', 'low': '1.9290', 'close': '2.2170', 'volume': None, 'tradeTime': '20030401000000', 'tradeTimeinMills': 1049173200000}, {'open': '2.1740', 'high': '2.8230', 'low': '2.1740', 'close': '2.3890', 'volume': None, 'tradeTime': '20030701000000', 'tradeTimeinMills': 1057032000000}, {'open': '2.2940', 'high': '2.8060', 'low': '2.2940', 'close': '2.4710', 'volume': None, 'tradeTime': '20031001000000', 'tradeTimeinMills': 1064980800000}, {'open': '2.4660', 'high': '2.6930', 'low': '1.8800', 'close': '2.1590', 'volume': None, 'tradeTime': '20040101000000', 'tradeTimeinMills': 1072933200000}, {'open': '1.9950', 'high': '3.0300', 'low': '1.9950', 'close': '2.9100', 'volume': None, 'tradeTime': '20040401000000', 'tradeTimeinMills': 1080795600000}, {'open': '2.8230', 'high': '2.8730', 'low': '2.5110', 'close': '2.6260', 'volume': None, 'tradeTime': '20040701000000', 'tradeTimeinMills': 1088654400000}, {'open': '2.5870', 'high': '2.6490', 'low': '2.2710', 'close': '2.4940', 'volume': None, 'tradeTime': '20041001000000', 'tradeTimeinMills': 1096603200000}, {'open': '2.4400', 'high': '2.5820', 'low': '2.2820', 'close': '2.4980', 'volume': None, 'tradeTime': '20050101000000', 'tradeTimeinMills': 1104555600000}, {'open': '2.4510', 'high': '2.4980', 'low': '1.9620', 'close': '2.0330', 'volume': None, 'tradeTime': '20050401000000', 'tradeTimeinMills': 1112331600000}, {'open': '2.0170', 'high': '2.3150', 'low': '1.9620', 'close': '2.3090', 'volume': None, 'tradeTime': '20050701000000', 'tradeTimeinMills': 1120190400000}, {'open': '2.3100', 'high': '2.9630', 'low': '2.2000', 'close': '2.9230', 'volume': None, 'tradeTime': '20051001000000', 'tradeTimeinMills': 1128139200000}, {'open': '2.8930', 'high': '3.4240', 'low': '2.7790', 'close': '3.4040', 'volume': None, 'tradeTime': '20060101000000', 'tradeTimeinMills': 1136091600000}, {'open': '3.4150', 'high': '3.6860', 'low': '3.3030', 'close': '3.6200', 'volume': None, 'tradeTime': '20060401000000', 'tradeTimeinMills': 1143867600000}, {'open': '3.6180', 'high': '3.7890', 'low': '3.5130', 'close': '3.6200', 'volume': None, 'tradeTime': '20060701000000', 'tradeTimeinMills': 1151726400000}, {'open': '3.6390', 'high': '3.9590', 'low': '3.5730', 'close': '3.9460', 'volume': None, 'tradeTime': '20061001000000', 'tradeTimeinMills': 1159675200000}, {'open': '3.9550', 'high': '4.0990', 'low': '3.8260', 'close': '4.0560', 'volume': None, 'tradeTime': '20070101000000', 'tradeTimeinMills': 1167627600000}, {'open': '4.0710', 'high': '4.5860', 'low': '4.0340', 'close': '4.5160', 'volume': None, 'tradeTime': '20070401000000', 'tradeTimeinMills': 1175400000000}, {'open': '4.4980', 'high': '4.6060', 'low': '3.9350', 'close': '4.2210', 'volume': None, 'tradeTime': '20070701000000', 'tradeTimeinMills': 1183262400000}, {'open': '4.2030', 'high': '4.3810', 'low': '3.8820', 'close': '4.1430', 'volume': None, 'tradeTime': '20071001000000', 'tradeTimeinMills': 1191211200000}, {'open': '4.1140', 'high': '4.2270', 'low': '3.3180', 'close': '3.8370', 'volume': None, 'tradeTime': '20080101000000', 'tradeTimeinMills': 1199163600000}, {'open': '3.8360', 'high': '5.0700', 'low': '3.7200', 'close': '4.9560', 'volume': None, 'tradeTime': '20080401000000', 'tradeTimeinMills': 1207022400000}, {'open': '4.9510', 'high': '5.1120', 'low': '3.9160', 'close': '4.0440', 'volume': None, 'tradeTime': '20080701000000', 'tradeTimeinMills': 1214884800000}, {'open': '4.0480', 'high': '4.1320', 'low': '2.9400', 'close': '3.0800', 'volume': None, 'tradeTime': '20081001000000', 'tradeTimeinMills': 1222833600000}, {'open': '3.0990', 'high': '3.1090', 'low': '1.8770', 'close': '1.8830', 'volume': None, 'tradeTime': '20090101000000', 'tradeTimeinMills': 1230786000000}, {'open': '1.8840', 'high': '2.1760', 'low': '1.5000', 'close': '1.5420', 'volume': None, 'tradeTime': '20090401000000', 'tradeTimeinMills': 1238558400000}, {'open': '1.5690', 'high': '1.7240', 'low': '1.1120', 'close': '1.5140', 'volume': None, 'tradeTime': '20090701000000', 'tradeTimeinMills': 1246420800000}, {'open': '1.5440', 'high': '1.8130', 'low': '1.3940', 'close': '1.5660', 'volume': None, 'tradeTime': '20091001000000', 'tradeTimeinMills': 1254369600000}, {'open': '1.6170', 'high': '2.1240', 'low': '1.2640', 'close': '1.5350', 'volume': None, 'tradeTime': '20100101000000', 'tradeTimeinMills': 1262322000000}, {'open': '1.5470', 'high': '2.8500', 'low': '1.4620', 'close': '2.1370', 'volume': None, 'tradeTime': '20100401000000', 'tradeTimeinMills': 1270094400000}, {'open': '2.3330', 'high': '2.3600', 'low': '1.5540', 'close': '1.9540', 'volume': None, 'tradeTime': '20100701000000', 'tradeTimeinMills': 1277956800000}, {'open': '2.0820', 'high': '3.3180', 'low': '1.6030', 'close': '2.8950', 'volume': None, 'tradeTime': '20101001000000', 'tradeTimeinMills': 1285905600000}, {'open': '2.9290', 'high': '3.2320', 'low': '2.3080', 'close': '2.9180', 'volume': None, 'tradeTime': '20110101000000', 'tradeTimeinMills': 1293858000000}, {'open': '2.9640', 'high': '3.4570', 'low': '2.7500', 'close': '3.0990', 'volume': None, 'tradeTime': '20110401000000', 'tradeTimeinMills': 1301630400000}, {'open': '3.0650', 'high': '5.3590', 'low': '3.0100', 'close': '4.3720', 'volume': None, 'tradeTime': '20110701000000', 'tradeTimeinMills': 1309492800000}, {'open': '4.4640', 'high': '8.3210', 'low': '4.1840', 'close': '4.9820', 'volume': None, 'tradeTime': '20111001000000', 'tradeTimeinMills': 1317441600000}, {'open': '5.1880', 'high': '5.2810', 'low': '1.6700', 'close': '2.9290', 'volume': None, 'tradeTime': '20120101000000', 'tradeTimeinMills': 1325394000000}, {'open': '2.8260', 'high': '5.0970', 'low': '2.7240', 'close': '3.7420', 'volume': None, 'tradeTime': '20120401000000', 'tradeTimeinMills': 1333252800000}, {'open': '3.7620', 'high': '5.2590', 'low': '2.2810', 'close': '2.5920', 'volume': None, 'tradeTime': '20120701000000', 'tradeTimeinMills': 1341115200000}, {'open': '2.6360', 'high': '2.6420', 'low': '1.7500', 'close': '2.1090', 'volume': None, 'tradeTime': '20121001000000', 'tradeTimeinMills': 1349064000000}, {'open': '1.9400', 'high': '2.5030', 'low': '1.2550', 'close': '2.1230', 'volume': None, 'tradeTime': '20130101000000', 'tradeTimeinMills': 1357016400000}, {'open': '2.1100', 'high': '2.5650', 'low': '1.1650', 'close': '2.1790', 'volume': None, 'tradeTime': '20130401000000', 'tradeTimeinMills': 1364788800000}, {'open': '2.1680', 'high': '2.1960', 'low': '1.6400', 'close': '1.9740', 'volume': None, 'tradeTime': '20130701000000', 'tradeTimeinMills': 1372651200000}, {'open': '1.9840', 'high': '1.9920', 'low': '1.0810', 'close': '1.2270', 'volume': None, 'tradeTime': '20131001000000', 'tradeTimeinMills': 1380600000000}, {'open': '0.8950', 'high': '0.9780', 'low': '0.7820', 'close': '0.8390', 'volume': None, 'tradeTime': '20140101000000', 'tradeTimeinMills': 1388552400000}, {'open': '0.8350', 'high': '1.0100', 'low': '0.4920', 'close': '0.5990', 'volume': None, 'tradeTime': '20140401000000', 'tradeTimeinMills': 1396324800000}, {'open': '0.6040', 'high': '0.6860', 'low': '0.2370', 'close': '0.4170', 'volume': None, 'tradeTime': '20140701000000', 'tradeTimeinMills': 1404187200000}, {'open': '0.4360', 'high': '0.5410', 'low': '0.1580', 'close': '0.2100', 'volume': None, 'tradeTime': '20150101000000', 'tradeTimeinMills': 1420088400000}, {'open': '0.2290', 'high': '0.5630', 'low': '0.0850', 'close': '0.4270', 'volume': None, 'tradeTime': '20150401000000', 'tradeTimeinMills': 1427860800000}, {'open': '0.4180', 'high': '0.4690', 'low': '0.0520', 'close': '0.1320', 'volume': None, 'tradeTime': '20150701000000', 'tradeTimeinMills': 1435723200000}, {'open': '0.1360', 'high': '0.1840', 'low': '-0.0380', 'close': '0.0320', 'volume': None, 'tradeTime': '20151001000000', 'tradeTimeinMills': 1443672000000}, {'open': '0.0339', 'high': '0.1955', 'low': '-0.2401', 'close': '-0.0065', 'volume': None, 'tradeTime': '20160101000000', 'tradeTimeinMills': 1451624400000}, {'open': '-0.0261', 'high': '0.2568', 'low': '-0.1241', 'close': '-0.1241', 'volume': None, 'tradeTime': '20160401000000', 'tradeTimeinMills': 1459483200000}, {'open': '-0.1256', 'high': '0.0296', 'low': '-0.1642', 'close': '-0.0826', 'volume': None, 'tradeTime': '20160701000000', 'tradeTimeinMills': 1467345600000}, {'open': '-0.0866', 'high': '0.3012', 'low': '-0.1760', 'close': '-0.1616', 'volume': None, 'tradeTime': '20161001000000', 'tradeTimeinMills': 1475294400000}, {'open': '-0.1616', 'high': '0.1873', 'low': '-0.1877', 'close': '0.0299', 'volume': None, 'tradeTime': '20170101000000', 'tradeTimeinMills': 1483246800000}, {'open': '0.0340', 'high': '0.1760', 'low': '-0.1944', 'close': '-0.0731', 'volume': None, 'tradeTime': '20170401000000', 'tradeTimeinMills': 1491019200000}, {'open': '-0.0747', 'high': '0.7311', 'low': '-0.2358', 'close': '-0.1564', 'volume': None, 'tradeTime': '20170701000000', 'tradeTimeinMills': 1498881600000}, {'open': '-0.1416', 'high': '-0.0394', 'low': '-0.3874', 'close': '-0.1802', 'volume': None, 'tradeTime': '20171001000000', 'tradeTimeinMills': 1506830400000}, {'open': '-0.1802', 'high': '-0.0470', 'low': '-0.3035', 'close': '-0.2730', 'volume': None, 'tradeTime': '20180101000000', 'tradeTimeinMills': 1514782800000}, {'open': '-0.2730', 'high': '2.9090', 'low': '-0.2998', 'close': '0.8700', 'volume': None, 'tradeTime': '20180401000000', 'tradeTimeinMills': 1522555200000}, {'open': '0.8700', 'high': '1.5520', 'low': '0.5230', 'close': '0.8620', 'volume': None, 'tradeTime': '20180701000000', 'tradeTimeinMills': 1530417600000}, {'open': '0.8620', 'high': '2.0130', 'low': '0.3910', 'close': '0.5180', 'volume': None, 'tradeTime': '20181001000000', 'tradeTimeinMills': 1538366400000}, {'open': '0.5180', 'high': '0.7480', 'low': '0.0900', 'close': '0.2720', 'volume': None, 'tradeTime': '20190101000000', 'tradeTimeinMills': 1546318800000}, {'open': '0.2720', 'high': '0.8210', 'low': '0.1290', 'close': '0.2800', 'volume': None, 'tradeTime': '20190401000000', 'tradeTimeinMills': 1554091200000}, {'open': '0.2800', 'high': '0.4440', 'low': '-0.4240', 'close': '-0.1890', 'volume': None, 'tradeTime': '20190701000000', 'tradeTimeinMills': 1561953600000}, {'open': '-0.1900', 'high': '0.2120', 'low': '-0.2210', 'close': '-0.0200', 'volume': None, 'tradeTime': '20191001000000', 'tradeTimeinMills': 1569902400000}, {'open': '-0.0200', 'high': '2.1150', 'low': '-0.2370', 'close': '0.3900', 'volume': None, 'tradeTime': '20200101000000', 'tradeTimeinMills': 1577854800000}, {'open': '0.3910', 'high': '1.2570', 'low': '0.0720', 'close': '0.0880', 'volume': None, 'tradeTime': '20200401000000', 'tradeTimeinMills': 1585713600000}, {'open': '0.0900', 'high': '0.1830', 'low': '-0.2400', 'close': '-0.2130', 'volume': None, 'tradeTime': '20200701000000', 'tradeTimeinMills': 1593576000000}, {'open': '-0.2110', 'high': '-0.1370', 'low': '-0.5000', 'close': '-0.4720', 'volume': None, 'tradeTime': '20201001000000', 'tradeTimeinMills': 1601524800000}, {'open': '-0.4660', 'high': '-0.2120', 'low': '-0.4740', 'close': '-0.3812', 'volume': None, 'tradeTime': '20210101000000', 'tradeTimeinMills': 1609477200000}, {'open': '-0.3801', 'high': '-0.1240', 'low': '-0.4080', 'close': '-0.3550', 'volume': None, 'tradeTime': '20210401000000', 'tradeTimeinMills': 1617249600000}, {'open': '-0.3550', 'high': '-0.2950', 'low': '-0.5550', 'close': '-0.4500', 'volume': None, 'tradeTime': '20210701000000', 'tradeTimeinMills': 1625112000000}, {'open': '-0.4490', 'high': '0.0000', 'low': '-1.2960', 'close': '-0.0740', 'volume': None, 'tradeTime': '20211001000000', 'tradeTimeinMills': 1633060800000}, {'open': '-0.0740', 'high': '1.4390', 'low': '-0.2910', 'close': '0.3090', 'volume': None, 'tradeTime': '20220101000000', 'tradeTimeinMills': 1641013200000}, {'open': '0.3070', 'high': '2.8090', 'low': '0.2990', 'close': '1.2250', 'volume': None, 'tradeTime': '20220401000000', 'tradeTimeinMills': 1648785600000}, {'open': '1.2290', 'high': '3.4440', 'low': '0.8970', 'close': '2.8640', 'volume': None, 'tradeTime': '20220701000000', 'tradeTimeinMills': 1656648000000}, {'open': '2.8660', 'high': '3.4450', 'low': '2.4170', 'close': '3.3400', 'volume': None, 'tradeTime': '20221001000000', 'tradeTimeinMills': 1664596800000}, {'open': '3.3400', 'high': '3.9380', 'low': '2.7950', 'close': '3.1828', 'volume': None, 'tradeTime': '20230101000000', 'tradeTimeinMills': 1672549200000}, {'open': '3.1802', 'high': '3.9550', 'low': '3.0276', 'close': '3.9240', 'volume': None, 'tradeTime': '20230401000000', 'tradeTimeinMills': 1680321600000}, {'open': '3.9250', 'high': '4.1930', 'low': '3.5880', 'close': '4.0260', 'volume': None, 'tradeTime': '20230701000000', 'tradeTimeinMills': 1688184000000}, {'open': '4.0260', 'high': '4.2040', 'low': '2.8980', 'close': '2.9730', 'volume': None, 'tradeTime': '20231001000000', 'tradeTimeinMills': 1696132800000}, {'open': '2.9730', 'high': '3.5430', 'low': '2.9680', 'close': '3.4510', 'volume': None, 'tradeTime': '20240101000000', 'tradeTimeinMills': 1704085200000}, {'open': '3.4510', 'high': '3.7300', 'low': '3.3880', 'close': '3.5770', 'volume': None, 'tradeTime': '20240401000000', 'tradeTimeinMills': 1711944000000}, {'open': '3.5770', 'high': '3.6810', 'low': '2.3300', 'close': '2.4870', 'volume': None, 'tradeTime': '20240701000000', 'tradeTimeinMills': 1719806400000}, {'open': '2.4870', 'high': '3.0730', 'low': '2.2750', 'close': '2.4550', 'volume': None, 'tradeTime': '20241001000000', 'tradeTimeinMills': 1727755200000}, {'open': '2.4550', 'high': '2.7650', 'low': '2.3840', 'close': '2.6110', 'volume': None, 'tradeTime': '20250101000000', 'tradeTimeinMills': 1735707600000}]\n"
     ]
    }
   ],
   "source": [
    "data = json_data['barData']['priceBars']\n",
    "print(data)"
   ]
  },
  {
   "cell_type": "code",
   "execution_count": 18,
   "metadata": {},
   "outputs": [
    {
     "name": "stdout",
     "output_type": "stream",
     "text": [
      "       open    high     low   close  volume       tradeTime  tradeTimeinMills\n",
      "0    3.1618  3.3227  2.9601  3.0287     NaN  19990101000000      915166800000\n",
      "1    3.0268  3.2999  2.7888  3.2714     NaN  19990401000000      922942800000\n",
      "2    3.2520  3.8749  3.2443  3.8749     NaN  19990701000000      930801600000\n",
      "3    3.8857  4.3826  3.8857  4.2976     NaN  19991001000000      938750400000\n",
      "4    4.4595  4.8484  4.3126  4.6391     NaN  20000101000000      946702800000\n",
      "..      ...     ...     ...     ...     ...             ...               ...\n",
      "99   2.9730  3.5430  2.9680  3.4510     NaN  20240101000000     1704085200000\n",
      "100  3.4510  3.7300  3.3880  3.5770     NaN  20240401000000     1711944000000\n",
      "101  3.5770  3.6810  2.3300  2.4870     NaN  20240701000000     1719806400000\n",
      "102  2.4870  3.0730  2.2750  2.4550     NaN  20241001000000     1727755200000\n",
      "103  2.4550  2.7650  2.3840  2.6110     NaN  20250101000000     1735707600000\n",
      "\n",
      "[104 rows x 7 columns]\n"
     ]
    },
    {
     "name": "stderr",
     "output_type": "stream",
     "text": [
      "C:\\Users\\Hassan-PC\\AppData\\Local\\Temp\\ipykernel_23292\\2649941860.py:1: FutureWarning: Passing literal json to 'read_json' is deprecated and will be removed in a future version. To read from a literal string, wrap it in a 'StringIO' object.\n",
      "  df = pd.read_json(json.dumps(data))\n"
     ]
    }
   ],
   "source": [
    "df = pd.read_json(json.dumps(data))\n",
    "print(df)"
   ]
  },
  {
   "cell_type": "code",
   "execution_count": 7,
   "metadata": {},
   "outputs": [],
   "source": [
    "df.drop(['tradeTimeinMills'], axis=1, inplace=True)"
   ]
  },
  {
   "cell_type": "code",
   "execution_count": 9,
   "metadata": {},
   "outputs": [
    {
     "name": "stdout",
     "output_type": "stream",
     "text": [
      "      open   high    low  close  volume       tradeTime  avg_price\n",
      "0    2.714  2.714  2.714  2.714     NaN  20250114094700    2.71400\n",
      "1    2.711  2.711  2.711  2.711     NaN  20250114094800    2.71100\n",
      "2    2.710  2.710  2.709  2.709     NaN  20250114095000    2.70950\n",
      "3    2.708  2.708  2.708  2.708     NaN  20250114095100    2.70800\n",
      "4    2.709  2.711  2.709  2.711     NaN  20250114095400    2.71000\n",
      "..     ...    ...    ...    ...     ...             ...        ...\n",
      "916  2.610  2.612  2.610  2.611     NaN  20250116093800    2.61075\n",
      "917  2.612  2.612  2.611  2.611     NaN  20250116093900    2.61150\n",
      "918  2.610  2.610  2.609  2.609     NaN  20250116094000    2.60950\n",
      "919  2.610  2.610  2.610  2.610     NaN  20250116094200    2.61000\n",
      "920  2.611  2.612  2.611  2.612     NaN  20250116094400    2.61150\n",
      "\n",
      "[921 rows x 7 columns]\n"
     ]
    }
   ],
   "source": [
    "df['avg_price'] = ((df['high'] + df['low']) + df['close'] + df['open'] )/ 4\n",
    "print(df)"
   ]
  },
  {
   "cell_type": "code",
   "execution_count": 10,
   "metadata": {},
   "outputs": [],
   "source": [
    "df.drop(['high', 'low', 'close', 'open'], axis=1, inplace=True)"
   ]
  },
  {
   "cell_type": "code",
   "execution_count": 13,
   "metadata": {},
   "outputs": [],
   "source": [
    "df['tradeTime'] = pd.to_datetime(df['tradeTime'].dt.strftime('%Y-%m-%d'))"
   ]
  },
  {
   "cell_type": "code",
   "execution_count": 14,
   "metadata": {},
   "outputs": [
    {
     "data": {
      "text/html": [
       "<div>\n",
       "<style scoped>\n",
       "    .dataframe tbody tr th:only-of-type {\n",
       "        vertical-align: middle;\n",
       "    }\n",
       "\n",
       "    .dataframe tbody tr th {\n",
       "        vertical-align: top;\n",
       "    }\n",
       "\n",
       "    .dataframe thead th {\n",
       "        text-align: right;\n",
       "    }\n",
       "</style>\n",
       "<table border=\"1\" class=\"dataframe\">\n",
       "  <thead>\n",
       "    <tr style=\"text-align: right;\">\n",
       "      <th></th>\n",
       "      <th>volume</th>\n",
       "      <th>tradeTime</th>\n",
       "      <th>avg_price</th>\n",
       "    </tr>\n",
       "  </thead>\n",
       "  <tbody>\n",
       "    <tr>\n",
       "      <th>0</th>\n",
       "      <td>NaN</td>\n",
       "      <td>1970-01-01</td>\n",
       "      <td>2.71400</td>\n",
       "    </tr>\n",
       "    <tr>\n",
       "      <th>1</th>\n",
       "      <td>NaN</td>\n",
       "      <td>1970-01-01</td>\n",
       "      <td>2.71100</td>\n",
       "    </tr>\n",
       "    <tr>\n",
       "      <th>2</th>\n",
       "      <td>NaN</td>\n",
       "      <td>1970-01-01</td>\n",
       "      <td>2.70950</td>\n",
       "    </tr>\n",
       "    <tr>\n",
       "      <th>3</th>\n",
       "      <td>NaN</td>\n",
       "      <td>1970-01-01</td>\n",
       "      <td>2.70800</td>\n",
       "    </tr>\n",
       "    <tr>\n",
       "      <th>4</th>\n",
       "      <td>NaN</td>\n",
       "      <td>1970-01-01</td>\n",
       "      <td>2.71000</td>\n",
       "    </tr>\n",
       "    <tr>\n",
       "      <th>...</th>\n",
       "      <td>...</td>\n",
       "      <td>...</td>\n",
       "      <td>...</td>\n",
       "    </tr>\n",
       "    <tr>\n",
       "      <th>916</th>\n",
       "      <td>NaN</td>\n",
       "      <td>NaT</td>\n",
       "      <td>2.61075</td>\n",
       "    </tr>\n",
       "    <tr>\n",
       "      <th>917</th>\n",
       "      <td>NaN</td>\n",
       "      <td>NaT</td>\n",
       "      <td>2.61150</td>\n",
       "    </tr>\n",
       "    <tr>\n",
       "      <th>918</th>\n",
       "      <td>NaN</td>\n",
       "      <td>NaT</td>\n",
       "      <td>2.60950</td>\n",
       "    </tr>\n",
       "    <tr>\n",
       "      <th>919</th>\n",
       "      <td>NaN</td>\n",
       "      <td>NaT</td>\n",
       "      <td>2.61000</td>\n",
       "    </tr>\n",
       "    <tr>\n",
       "      <th>920</th>\n",
       "      <td>NaN</td>\n",
       "      <td>NaT</td>\n",
       "      <td>2.61150</td>\n",
       "    </tr>\n",
       "  </tbody>\n",
       "</table>\n",
       "<p>921 rows × 3 columns</p>\n",
       "</div>"
      ],
      "text/plain": [
       "     volume  tradeTime  avg_price\n",
       "0       NaN 1970-01-01    2.71400\n",
       "1       NaN 1970-01-01    2.71100\n",
       "2       NaN 1970-01-01    2.70950\n",
       "3       NaN 1970-01-01    2.70800\n",
       "4       NaN 1970-01-01    2.71000\n",
       "..      ...        ...        ...\n",
       "916     NaN        NaT    2.61075\n",
       "917     NaN        NaT    2.61150\n",
       "918     NaN        NaT    2.60950\n",
       "919     NaN        NaT    2.61000\n",
       "920     NaN        NaT    2.61150\n",
       "\n",
       "[921 rows x 3 columns]"
      ]
     },
     "execution_count": 14,
     "metadata": {},
     "output_type": "execute_result"
    }
   ],
   "source": [
    "df"
   ]
  },
  {
   "cell_type": "code",
   "execution_count": null,
   "metadata": {},
   "outputs": [],
   "source": []
  }
 ],
 "metadata": {
  "kernelspec": {
   "display_name": "Python 3",
   "language": "python",
   "name": "python3"
  },
  "language_info": {
   "codemirror_mode": {
    "name": "ipython",
    "version": 3
   },
   "file_extension": ".py",
   "mimetype": "text/x-python",
   "name": "python",
   "nbconvert_exporter": "python",
   "pygments_lexer": "ipython3",
   "version": "3.12.8"
  }
 },
 "nbformat": 4,
 "nbformat_minor": 2
}
